{
 "cells": [
  {
   "cell_type": "markdown",
   "metadata": {},
   "source": [
    "# Hangman!"
   ]
  },
  {
   "cell_type": "code",
   "execution_count": 1,
   "metadata": {},
   "outputs": [],
   "source": [
    "#welcoming the user"
   ]
  },
  {
   "cell_type": "code",
   "execution_count": 13,
   "metadata": {},
   "outputs": [
    {
     "name": "stdout",
     "output_type": "stream",
     "text": [
      "What is your name? Pratyusha\n",
      "Hello, Pratyusha. It is time to play hangman!\n"
     ]
    }
   ],
   "source": [
    "name = input(\"What is your name? \")\n",
    "print(\"Hello,\", name + \". It is time to play hangman!\")"
   ]
  },
  {
   "cell_type": "code",
   "execution_count": 3,
   "metadata": {},
   "outputs": [
    {
     "name": "stdout",
     "output_type": "stream",
     "text": [
      "Start guessing...\n"
     ]
    }
   ],
   "source": [
    "print(\"Start guessing...\")"
   ]
  },
  {
   "cell_type": "code",
   "execution_count": 4,
   "metadata": {},
   "outputs": [],
   "source": [
    "#here we set the word\n",
    "word = \"secret\""
   ]
  },
  {
   "cell_type": "code",
   "execution_count": 8,
   "metadata": {},
   "outputs": [],
   "source": [
    "#create a variable with an empty value\n",
    "guesses = \"\""
   ]
  },
  {
   "cell_type": "code",
   "execution_count": 9,
   "metadata": {},
   "outputs": [],
   "source": [
    "#determine number of turns\n",
    "turns = 10"
   ]
  },
  {
   "cell_type": "code",
   "execution_count": 10,
   "metadata": {},
   "outputs": [
    {
     "name": "stdout",
     "output_type": "stream",
     "text": [
      "_\n",
      "_\n",
      "_\n",
      "_\n",
      "_\n",
      "_\n",
      "guess a character:a\n",
      "Wrong\n",
      "You have 9 more guesses\n",
      "_\n",
      "_\n",
      "_\n",
      "_\n",
      "_\n",
      "_\n",
      "guess a character:e\n",
      "You have 9 more guesses\n",
      "_\n",
      "e\n",
      "_\n",
      "_\n",
      "e\n",
      "_\n",
      "guess a character:r\n",
      "You have 9 more guesses\n",
      "_\n",
      "e\n",
      "_\n",
      "r\n",
      "e\n",
      "_\n",
      "guess a character:i\n",
      "Wrong\n",
      "You have 8 more guesses\n",
      "_\n",
      "e\n",
      "_\n",
      "r\n",
      "e\n",
      "_\n",
      "guess a character:m\n",
      "Wrong\n",
      "You have 7 more guesses\n",
      "_\n",
      "e\n",
      "_\n",
      "r\n",
      "e\n",
      "_\n",
      "guess a character:t\n",
      "You have 7 more guesses\n",
      "_\n",
      "e\n",
      "_\n",
      "r\n",
      "e\n",
      "t\n",
      "guess a character:d\n",
      "Wrong\n",
      "You have 6 more guesses\n",
      "_\n",
      "e\n",
      "_\n",
      "r\n",
      "e\n",
      "t\n",
      "guess a character:b\n",
      "Wrong\n",
      "You have 5 more guesses\n",
      "_\n",
      "e\n",
      "_\n",
      "r\n",
      "e\n",
      "t\n",
      "guess a character:s\n",
      "You have 5 more guesses\n",
      "s\n",
      "e\n",
      "_\n",
      "r\n",
      "e\n",
      "t\n",
      "guess a character:c\n",
      "You have 5 more guesses\n",
      "s\n",
      "e\n",
      "c\n",
      "r\n",
      "e\n",
      "t\n",
      "You won!\n"
     ]
    }
   ],
   "source": [
    "while turns > 0:\n",
    "    failed = 0\n",
    "    for char in word:\n",
    "        if char in guesses:\n",
    "            print(char)\n",
    "        else:\n",
    "            print(\"_\")\n",
    "            failed += 1\n",
    "    \n",
    "    if failed == 0:\n",
    "        print(\"You won!\")\n",
    "        break\n",
    "    \n",
    "    guess = input(\"guess a character:\")\n",
    "    \n",
    "    guesses += guess\n",
    "    \n",
    "    if guess not in word:\n",
    "        turns -= 1\n",
    "        print(\"Wrong\")\n",
    "    \n",
    "    print(\"You have\", + turns, \"more guesses\")\n",
    "    \n",
    "    if turns == 0:\n",
    "        print(\"You lose\")"
   ]
  },
  {
   "cell_type": "markdown",
   "metadata": {},
   "source": [
    "# More User-Friendly Hangman"
   ]
  },
  {
   "cell_type": "code",
   "execution_count": 16,
   "metadata": {},
   "outputs": [],
   "source": [
    "def hangman_game():\n",
    "    name = input(\"What is your name? \")\n",
    "    print(\"Hello,\", name + \". It is time to play hangman!\")\n",
    "    print(\"Start guessing...\")\n",
    "    #here we set the word\n",
    "    word = \"secret\"\n",
    "    #create a variable with an empty value\n",
    "    guesses = \"\"\n",
    "    #determine number of turns\n",
    "    turns = 10\n",
    "    while turns > 0:\n",
    "        failed = 0\n",
    "        for char in word:\n",
    "            if char in guesses:\n",
    "                print(char)\n",
    "            else:\n",
    "                print(\"_\")\n",
    "                failed += 1\n",
    "    \n",
    "        if failed == 0:\n",
    "            print(\"You won!\")\n",
    "            break\n",
    "    \n",
    "        guess = input(\"guess a character:\")\n",
    "    \n",
    "        guesses += guess\n",
    "    \n",
    "        if guess not in word:\n",
    "            turns -= 1\n",
    "            print(\"Wrong\")\n",
    "    \n",
    "        print(\"You have\", + turns, \"more guesses\")\n",
    "    \n",
    "        if turns == 0:\n",
    "            print(\"You lose\")\n",
    "    \n",
    "    check = None\n",
    "    while check == None:\n",
    "        check = input(\"Do you want to play again? Y/N\\n\")\n",
    "        if check == \"Y\":\n",
    "            hangman_game()\n",
    "        elif check == \"N\":\n",
    "            print(\"Thanks for playing, goodbye!\")\n",
    "        else:\n",
    "            print(\"Wrong input. Please enter Y/N only.\\n\")\n",
    "            check = None\n",
    "        \n",
    "\n",
    "    "
   ]
  },
  {
   "cell_type": "code",
   "execution_count": 17,
   "metadata": {},
   "outputs": [
    {
     "name": "stdout",
     "output_type": "stream",
     "text": [
      "What is your name? Pratyusha\n",
      "Hello, Pratyusha. It is time to play hangman!\n",
      "Start guessing...\n",
      "_\n",
      "_\n",
      "_\n",
      "_\n",
      "_\n",
      "_\n",
      "guess a character:s\n",
      "You have 10 more guesses\n",
      "s\n",
      "_\n",
      "_\n",
      "_\n",
      "_\n",
      "_\n",
      "guess a character:e\n",
      "You have 10 more guesses\n",
      "s\n",
      "e\n",
      "_\n",
      "_\n",
      "e\n",
      "_\n",
      "guess a character:c\n",
      "You have 10 more guesses\n",
      "s\n",
      "e\n",
      "c\n",
      "_\n",
      "e\n",
      "_\n",
      "guess a character:r\n",
      "You have 10 more guesses\n",
      "s\n",
      "e\n",
      "c\n",
      "r\n",
      "e\n",
      "_\n",
      "guess a character:t\n",
      "You have 10 more guesses\n",
      "s\n",
      "e\n",
      "c\n",
      "r\n",
      "e\n",
      "t\n",
      "You won!\n",
      "Do you want to play again? Y/N\n",
      "Maybe\n",
      "Wrong input. Please enter Y/N only.\n",
      "\n",
      "Do you want to play again? Y/N\n",
      "N\n",
      "Thanks for playing, goodbye!\n"
     ]
    }
   ],
   "source": [
    "hangman_game()"
   ]
  }
 ],
 "metadata": {
  "kernelspec": {
   "display_name": "Python 3",
   "language": "python",
   "name": "python3"
  },
  "language_info": {
   "codemirror_mode": {
    "name": "ipython",
    "version": 3
   },
   "file_extension": ".py",
   "mimetype": "text/x-python",
   "name": "python",
   "nbconvert_exporter": "python",
   "pygments_lexer": "ipython3",
   "version": "3.8.3"
  }
 },
 "nbformat": 4,
 "nbformat_minor": 4
}
